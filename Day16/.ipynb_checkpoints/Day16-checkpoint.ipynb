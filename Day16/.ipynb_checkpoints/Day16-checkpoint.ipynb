{
 "cells": [
  {
   "cell_type": "code",
   "execution_count": 7,
   "id": "ae889f0d",
   "metadata": {},
   "outputs": [
    {
     "name": "stdout",
     "output_type": "stream",
     "text": [
      "Checking children:\n",
      "430 remain\n",
      "Checking cats:\n",
      "376 remain\n",
      "Checking samoyeds:\n",
      "315 remain\n",
      "Checking pomeranians:\n",
      "244 remain\n",
      "Checking akitas:\n",
      "138 remain\n",
      "Checking vizslas:\n",
      "81 remain\n",
      "Checking goldfish:\n",
      "34 remain\n",
      "Checking trees:\n",
      "11 remain\n",
      "Checking cars:\n",
      "5 remain\n",
      "Checking perfumes:\n",
      "1 remain\n",
      "{'103'}\n"
     ]
    }
   ],
   "source": [
    "with open('input16.txt', 'r') as inf:\n",
    "    data = [l.strip().split() for l in inf]\n",
    "\n",
    "with open('requirements.txt', 'r') as inf:\n",
    "    req = [l.strip().split() for l in inf]\n",
    "\n",
    "aunts = {}\n",
    "possible = set()\n",
    "\n",
    "for v in data:\n",
    "    n_aunt = v[1][:-1]\n",
    "    aunts[n_aunt] = {v[i]: int(v[i+1].replace(',', '')) for i in range(2, 8, 2)}\n",
    "    possible.add(n_aunt)\n",
    "    \n",
    "for r in req:\n",
    "    compound = r[0]\n",
    "    amount = int(r[1])\n",
    "    new_possible = set()\n",
    "\n",
    "    print('Checking', compound)\n",
    "    for a in possible:\n",
    "        if compound in aunts[a]:\n",
    "            if aunts[a][compound] == amount:\n",
    "                new_possible.add(a) # Matches\n",
    "        else:\n",
    "            new_possible.add(a) # We do not know\n",
    "            \n",
    "    possible = new_possible\n",
    "    \n",
    "    print(len(possible), 'remain')\n",
    "    \n",
    "print(possible)"
   ]
  },
  {
   "cell_type": "markdown",
   "id": "a2fe6163",
   "metadata": {},
   "source": [
    "Part 2"
   ]
  },
  {
   "cell_type": "code",
   "execution_count": 8,
   "id": "b6888d92",
   "metadata": {},
   "outputs": [
    {
     "name": "stdout",
     "output_type": "stream",
     "text": [
      "Checking children:\n",
      "430 remain\n",
      "Checking cats:\n",
      "389 remain\n",
      "Checking samoyeds:\n",
      "327 remain\n",
      "Checking pomeranians:\n",
      "273 remain\n",
      "Checking akitas:\n",
      "157 remain\n",
      "Checking vizslas:\n",
      "94 remain\n",
      "Checking goldfish:\n",
      "52 remain\n",
      "Checking trees:\n",
      "36 remain\n",
      "Checking cars:\n",
      "11 remain\n",
      "Checking perfumes:\n",
      "2 remain\n",
      "{'103', '405'}\n"
     ]
    }
   ],
   "source": [
    "with open('input16.txt', 'r') as inf:\n",
    "    data = [l.strip().split() for l in inf]\n",
    "\n",
    "with open('requirements.txt', 'r') as inf:\n",
    "    req = [l.strip().split() for l in inf]\n",
    "\n",
    "aunts = {}\n",
    "possible = set()\n",
    "\n",
    "gt = ['cats:', 'trees:']\n",
    "lt = ['pomeranians:', 'goldfish:']\n",
    "\n",
    "for v in data:\n",
    "    n_aunt = v[1][:-1]\n",
    "    aunts[n_aunt] = {v[i]: int(v[i+1].replace(',', '')) for i in range(2, 8, 2)}\n",
    "    possible.add(n_aunt)\n",
    "    \n",
    "for r in req:\n",
    "    compound = r[0]\n",
    "    amount = int(r[1])\n",
    "    new_possible = set()\n",
    "\n",
    "    print('Checking', compound)\n",
    "    for a in possible:\n",
    "        if compound in aunts[a]:\n",
    "            if compound in gt and aunts[a][compound] > amount:\n",
    "                new_possible.add(a) # Matches\n",
    "            elif compound in lt and aunts[a][compound] < amount:\n",
    "                new_possible.add(a) # Matches\n",
    "            elif aunts[a][compound] == amount:\n",
    "                new_possible.add(a) # Matches\n",
    "        else:\n",
    "            new_possible.add(a) # We do not know\n",
    "            \n",
    "    possible = new_possible\n",
    "    \n",
    "    print(len(possible), 'remain')\n",
    "    \n",
    "print(possible)"
   ]
  },
  {
   "cell_type": "code",
   "execution_count": null,
   "id": "811e78e7",
   "metadata": {},
   "outputs": [],
   "source": []
  }
 ],
 "metadata": {
  "kernelspec": {
   "display_name": "Python 3 (ipykernel)",
   "language": "python",
   "name": "python3"
  },
  "language_info": {
   "codemirror_mode": {
    "name": "ipython",
    "version": 3
   },
   "file_extension": ".py",
   "mimetype": "text/x-python",
   "name": "python",
   "nbconvert_exporter": "python",
   "pygments_lexer": "ipython3",
   "version": "3.10.4"
  }
 },
 "nbformat": 4,
 "nbformat_minor": 5
}
