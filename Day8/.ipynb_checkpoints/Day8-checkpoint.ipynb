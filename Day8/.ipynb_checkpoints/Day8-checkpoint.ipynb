{
 "cells": [
  {
   "cell_type": "code",
   "execution_count": 13,
   "id": "f506c47d",
   "metadata": {},
   "outputs": [],
   "source": [
    "import re"
   ]
  },
  {
   "cell_type": "code",
   "execution_count": 9,
   "id": "1199c2b1",
   "metadata": {},
   "outputs": [
    {
     "name": "stdout",
     "output_type": "stream",
     "text": [
      "1350\n",
      "2085\n"
     ]
    }
   ],
   "source": [
    "with open('input8.txt', 'r') as inf:\n",
    "    data = [l.strip() for l in inf]\n",
    "    \n",
    "l_code = 0\n",
    "l_str = 0\n",
    "\n",
    "for s in data:\n",
    "    l_code += len(s)\n",
    "    l_str += len(eval(s))\n",
    "    \n",
    "print(l_code - l_str)\n",
    "\n",
    "l_encoded = 0\n",
    "l_code = 0\n",
    "\n",
    "\n",
    "for s in data:\n",
    "    out = '\"'\n",
    "    for c in s:\n",
    "        if c in ['\"', '\\\\']:\n",
    "            out += '\\\\'\n",
    "        out += c\n",
    "    out += '\"'\n",
    "             \n",
    "    l_code += len(s)\n",
    "    l_encoded += len(out)\n",
    "    \n",
    "print(l_encoded - l_code)\n"
   ]
  },
  {
   "cell_type": "code",
   "execution_count": null,
   "id": "bf9e91c1",
   "metadata": {},
   "outputs": [],
   "source": []
  }
 ],
 "metadata": {
  "kernelspec": {
   "display_name": "Python 3 (ipykernel)",
   "language": "python",
   "name": "python3"
  },
  "language_info": {
   "codemirror_mode": {
    "name": "ipython",
    "version": 3
   },
   "file_extension": ".py",
   "mimetype": "text/x-python",
   "name": "python",
   "nbconvert_exporter": "python",
   "pygments_lexer": "ipython3",
   "version": "3.10.4"
  }
 },
 "nbformat": 4,
 "nbformat_minor": 5
}
