{
 "cells": [
  {
   "cell_type": "code",
   "execution_count": 1,
   "id": "9ef3e339",
   "metadata": {},
   "outputs": [],
   "source": [
    "import numpy as np"
   ]
  },
  {
   "cell_type": "code",
   "execution_count": 11,
   "id": "398dda0d",
   "metadata": {},
   "outputs": [
    {
     "name": "stdout",
     "output_type": "stream",
     "text": [
      "Lights on: 543903\n",
      "Total brightness 14687245\n"
     ]
    }
   ],
   "source": [
    "with open('input6.txt', 'r') as inf:\n",
    "    instructions = [l.strip() for l in inf]\n",
    "    \n",
    "# instructions = ['turn on 0,0 through 999,999']\n",
    "\n",
    "grid = np.ones((1000,1000))\n",
    "grid *= -1\n",
    "\n",
    "for i in instructions:\n",
    "    instr = i.split()\n",
    "    x1, y1 = instr[-3].split(',')\n",
    "    x2, y2 = instr[-1].split(',')\n",
    "    x1 = int(x1)\n",
    "    y1 = int(y1)\n",
    "    x2 = int(x2)\n",
    "    y2 = int(y2)\n",
    "    if instr[0] == 'turn':\n",
    "        if instr[1] == 'on':\n",
    "            grid[x1:x2+1,y1:y2+1] = 1\n",
    "        else:\n",
    "            grid[x1:x2+1,y1:y2+1] = -1\n",
    "    else:\n",
    "        grid[x1:x2+1,y1:y2+1] *= -1\n",
    "        \n",
    "print('Lights on:', len(np.where(grid == 1)[0]))\n",
    "\n",
    "# instructions = ['toggle 0,0 through 999,999']\n",
    "\n",
    "grid = np.zeros((1000,1000), dtype=int)\n",
    "\n",
    "for i in instructions:\n",
    "    instr = i.split()\n",
    "    x1, y1 = instr[-3].split(',')\n",
    "    x2, y2 = instr[-1].split(',')\n",
    "    x1 = int(x1)\n",
    "    y1 = int(y1)\n",
    "    x2 = int(x2)\n",
    "    y2 = int(y2)\n",
    "    if instr[0] == 'turn':\n",
    "        if instr[1] == 'on':\n",
    "            grid[x1:x2+1,y1:y2+1] += 1\n",
    "        else:\n",
    "            grid[x1:x2+1,y1:y2+1] -= 1\n",
    "            grid[np.where(grid < 0)] = 0\n",
    "    else:\n",
    "        grid[x1:x2+1,y1:y2+1] += 2\n",
    "        \n",
    "print('Total brightness', np.sum(grid))"
   ]
  },
  {
   "cell_type": "code",
   "execution_count": null,
   "id": "e8482d68",
   "metadata": {},
   "outputs": [],
   "source": []
  }
 ],
 "metadata": {
  "kernelspec": {
   "display_name": "Python 3 (ipykernel)",
   "language": "python",
   "name": "python3"
  },
  "language_info": {
   "codemirror_mode": {
    "name": "ipython",
    "version": 3
   },
   "file_extension": ".py",
   "mimetype": "text/x-python",
   "name": "python",
   "nbconvert_exporter": "python",
   "pygments_lexer": "ipython3",
   "version": "3.10.4"
  }
 },
 "nbformat": 4,
 "nbformat_minor": 5
}
