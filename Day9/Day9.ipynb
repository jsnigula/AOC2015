{
 "cells": [
  {
   "cell_type": "code",
   "execution_count": 1,
   "id": "93d3a7bf",
   "metadata": {},
   "outputs": [],
   "source": [
    "import copy"
   ]
  },
  {
   "cell_type": "code",
   "execution_count": 44,
   "id": "c63e1578",
   "metadata": {},
   "outputs": [],
   "source": [
    "class Place():\n",
    "    \n",
    "    def __init__(self, name):\n",
    "        self.name = name\n",
    "        self.dists = {}"
   ]
  },
  {
   "cell_type": "code",
   "execution_count": 45,
   "id": "80eaaec3",
   "metadata": {},
   "outputs": [],
   "source": [
    "def find_path(place, path, dist, places, paths, dists):\n",
    "    path.add(place)\n",
    "    \n",
    "    if len(path) == len(places):\n",
    "        paths.append(path)\n",
    "        dists.append(dist)\n",
    "        return\n",
    "        \n",
    "    for dest in places[place].dists:\n",
    "        if dest not in path:\n",
    "            find_path(dest, copy.deepcopy(path), dist+places[place].dists[dest], places, paths, dists)\n",
    "            "
   ]
  },
  {
   "cell_type": "code",
   "execution_count": 49,
   "id": "995ab53f",
   "metadata": {},
   "outputs": [
    {
     "name": "stdout",
     "output_type": "stream",
     "text": [
      "251 898\n"
     ]
    }
   ],
   "source": [
    "places = {}\n",
    "\n",
    "with open('input9.txt', 'r') as inf:\n",
    "    data = [l.strip() for l in inf]\n",
    "    \n",
    "for l in data:\n",
    "    v = l.split()\n",
    "    if v[0] not in places:\n",
    "        places[v[0]] = Place(v[0])\n",
    "        \n",
    "    if v[2] not in places:\n",
    "        places[v[2]] = Place(v[2])\n",
    "\n",
    "    places[v[0]].dists[v[2]] = int(v[4])\n",
    "    places[v[2]].dists[v[0]] = int(v[4])\n",
    "    \n",
    "paths = []\n",
    "dists = []\n",
    "\n",
    "for p in places:\n",
    "    path = set()\n",
    "    find_path(p, path, 0, places, paths, dists)\n",
    "    \n",
    "print(min(dists), max(dists))"
   ]
  },
  {
   "cell_type": "code",
   "execution_count": null,
   "id": "bf8c83c0",
   "metadata": {},
   "outputs": [],
   "source": []
  }
 ],
 "metadata": {
  "kernelspec": {
   "display_name": "Python 3 (ipykernel)",
   "language": "python",
   "name": "python3"
  },
  "language_info": {
   "codemirror_mode": {
    "name": "ipython",
    "version": 3
   },
   "file_extension": ".py",
   "mimetype": "text/x-python",
   "name": "python",
   "nbconvert_exporter": "python",
   "pygments_lexer": "ipython3",
   "version": "3.10.4"
  }
 },
 "nbformat": 4,
 "nbformat_minor": 5
}
