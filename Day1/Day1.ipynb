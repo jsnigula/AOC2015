{
 "cells": [
  {
   "cell_type": "code",
   "execution_count": 1,
   "id": "be6bab02",
   "metadata": {},
   "outputs": [],
   "source": [
    "import re"
   ]
  },
  {
   "cell_type": "code",
   "execution_count": 9,
   "id": "3163fffe",
   "metadata": {},
   "outputs": [
    {
     "name": "stdout",
     "output_type": "stream",
     "text": [
      "Floor 138\n"
     ]
    }
   ],
   "source": [
    "with open('input1.txt', 'r') as inf:\n",
    "    l = inf.readline()\n",
    "\n",
    "print('Floor', len(re.findall('\\(', l)) - len(re.findall('\\)', l)))"
   ]
  },
  {
   "cell_type": "code",
   "execution_count": 11,
   "id": "c6652862",
   "metadata": {},
   "outputs": [
    {
     "name": "stdout",
     "output_type": "stream",
     "text": [
      "Hit basement at 1771\n"
     ]
    }
   ],
   "source": [
    "floor = 0\n",
    "\n",
    "for i, c in enumerate(l):\n",
    "    if c == '(':\n",
    "        floor += 1\n",
    "    else:\n",
    "        floor -= 1\n",
    "    if floor == -1:\n",
    "        print('Hit basement at', i+1)\n",
    "        break\n",
    "       "
   ]
  },
  {
   "cell_type": "code",
   "execution_count": null,
   "id": "31d4a8b8",
   "metadata": {},
   "outputs": [],
   "source": []
  }
 ],
 "metadata": {
  "kernelspec": {
   "display_name": "Python 3 (ipykernel)",
   "language": "python",
   "name": "python3"
  },
  "language_info": {
   "codemirror_mode": {
    "name": "ipython",
    "version": 3
   },
   "file_extension": ".py",
   "mimetype": "text/x-python",
   "name": "python",
   "nbconvert_exporter": "python",
   "pygments_lexer": "ipython3",
   "version": "3.10.4"
  }
 },
 "nbformat": 4,
 "nbformat_minor": 5
}
