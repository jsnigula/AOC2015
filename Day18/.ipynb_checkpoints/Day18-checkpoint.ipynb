{
 "cells": [
  {
   "cell_type": "code",
   "execution_count": 1,
   "id": "182b85a7",
   "metadata": {},
   "outputs": [],
   "source": [
    "import numpy as np"
   ]
  },
  {
   "cell_type": "code",
   "execution_count": 22,
   "id": "bb41a076",
   "metadata": {},
   "outputs": [
    {
     "name": "stdout",
     "output_type": "stream",
     "text": [
      "Lights on 814\n"
     ]
    }
   ],
   "source": [
    "data = []\n",
    "with open('input18.txt', 'r') as inf:\n",
    "    for l in inf:\n",
    "        data.append([1 if c == '#' else 0 for c in l.strip()])\n",
    "                    \n",
    "inp = np.array(data, dtype=int)\n",
    "\n",
    "grid = np.zeros((inp.shape[0] + 2, inp.shape[1] + 2), dtype=int)\n",
    "\n",
    "grid[1:-1, 1:-1] = inp\n",
    "\n",
    "for i in range(100):\n",
    "    newgrid = np.zeros(grid.shape, dtype=int)\n",
    "    for y in range(1, inp.shape[0]+1):\n",
    "        for x in range(1, inp.shape[0]+1):\n",
    "            neighbors = np.sum(grid[y-1:y+2, x-1:x+2]) - grid[y,x]\n",
    "            if grid[y, x] == 1:\n",
    "                if neighbors in [2, 3]:\n",
    "                    newgrid[y, x] = 1\n",
    "            if grid[y, x] == 0:\n",
    "                if neighbors == 3:\n",
    "                    newgrid[y, x] = 1\n",
    "                    \n",
    "    # print(newgrid)\n",
    "    grid = newgrid\n",
    "    \n",
    "print('Lights on', np.sum(grid))"
   ]
  },
  {
   "cell_type": "markdown",
   "id": "157a4269",
   "metadata": {},
   "source": [
    "Part 2"
   ]
  },
  {
   "cell_type": "code",
   "execution_count": 23,
   "id": "e0f2e752",
   "metadata": {},
   "outputs": [
    {
     "name": "stdout",
     "output_type": "stream",
     "text": [
      "Lights on 924\n"
     ]
    }
   ],
   "source": [
    "data = []\n",
    "with open('input18.txt', 'r') as inf:\n",
    "    for l in inf:\n",
    "        data.append([1 if c == '#' else 0 for c in l.strip()])\n",
    "                    \n",
    "inp = np.array(data, dtype=int)\n",
    "\n",
    "grid = np.zeros((inp.shape[0] + 2, inp.shape[1] + 2), dtype=int)\n",
    "\n",
    "grid[1:-1, 1:-1] = inp\n",
    "grid[1,1] = 1\n",
    "grid[1, -2] = 1\n",
    "grid[-2, 1] = 1\n",
    "grid[-2, -2] = 1\n",
    "\n",
    "for i in range(100):\n",
    "    newgrid = np.zeros(grid.shape, dtype=int)\n",
    "    for y in range(1, inp.shape[0]+1):\n",
    "        for x in range(1, inp.shape[0]+1):\n",
    "            neighbors = np.sum(grid[y-1:y+2, x-1:x+2]) - grid[y,x]\n",
    "            if grid[y, x] == 1:\n",
    "                if neighbors in [2, 3]:\n",
    "                    newgrid[y, x] = 1\n",
    "            if grid[y, x] == 0:\n",
    "                if neighbors == 3:\n",
    "                    newgrid[y, x] = 1\n",
    "                    \n",
    "    grid = newgrid\n",
    "    grid[1,1] = 1\n",
    "    grid[1, -2] = 1\n",
    "    grid[-2, 1] = 1\n",
    "    grid[-2, -2] = 1\n",
    "    \n",
    "print('Lights on', np.sum(grid))"
   ]
  },
  {
   "cell_type": "code",
   "execution_count": null,
   "id": "f77205d3",
   "metadata": {},
   "outputs": [],
   "source": []
  }
 ],
 "metadata": {
  "kernelspec": {
   "display_name": "Python 3 (ipykernel)",
   "language": "python",
   "name": "python3"
  },
  "language_info": {
   "codemirror_mode": {
    "name": "ipython",
    "version": 3
   },
   "file_extension": ".py",
   "mimetype": "text/x-python",
   "name": "python",
   "nbconvert_exporter": "python",
   "pygments_lexer": "ipython3",
   "version": "3.10.4"
  }
 },
 "nbformat": 4,
 "nbformat_minor": 5
}
