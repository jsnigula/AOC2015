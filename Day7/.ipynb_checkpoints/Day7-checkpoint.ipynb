{
 "cells": [
  {
   "cell_type": "code",
   "execution_count": 43,
   "id": "54124479",
   "metadata": {},
   "outputs": [],
   "source": [
    "class Gate():\n",
    "    def __init__(self, instruction):\n",
    "        instr = instruction.split()\n",
    "        self.outwire = instr[-1]\n",
    "        self.val = None\n",
    "\n",
    "        if len(instr) == 3:\n",
    "            self.mode = 'INPUT'\n",
    "            try:\n",
    "                self.val = int(instr[0])\n",
    "            except ValueError:\n",
    "                self.inwire = instr[0]\n",
    "        elif len(instr) == 4:\n",
    "            self.mode = 'NOT'\n",
    "            self.inwire = instr[1]\n",
    "        else:\n",
    "            if 'SHIFT' in instr[1]:\n",
    "                self.mode = instr[1]\n",
    "                self.inwire = instr[0]\n",
    "                self.shift = int(instr[2])\n",
    "            else:\n",
    "                self.mode = instr[1]\n",
    "                self.inwire_1 = instr[0]\n",
    "                self.inwire_2 = instr[2]\n",
    "            \n",
    "    def get(self, gatemap):\n",
    "        if self.val is not None:\n",
    "            return self.val\n",
    "        elif self.mode == 'INPUT':\n",
    "            self.val = gatemap[self.inwire].get(gatemap)\n",
    "        elif self.mode == 'NOT':\n",
    "            self.val = (~ gatemap[self.inwire].get(gatemap) & 0xFFFF)\n",
    "        elif self.mode == 'AND':\n",
    "            self.val = gatemap[self.inwire_1].get(gatemap) & gatemap[self.inwire_2].get(gatemap)\n",
    "        elif self.mode == 'OR':\n",
    "            self.val = gatemap[self.inwire_1].get(gatemap) | gatemap[self.inwire_2].get(gatemap)\n",
    "        elif self.mode == 'LSHIFT':\n",
    "            self.val = gatemap[self.inwire].get(gatemap) << self.shift\n",
    "        elif self.mode == 'RSHIFT':\n",
    "            self.val = gatemap[self.inwire].get(gatemap) >> self.shift\n",
    "        else:\n",
    "            print('Something went wrong?')\n",
    "            \n",
    "        return self.val"
   ]
  },
  {
   "cell_type": "code",
   "execution_count": 48,
   "id": "cfb97cef",
   "metadata": {},
   "outputs": [
    {
     "name": "stdout",
     "output_type": "stream",
     "text": [
      "956\n",
      "40149\n"
     ]
    }
   ],
   "source": [
    "with open('input7.txt', 'r') as inf:\n",
    "    instructions = [l.strip() for l in inf]\n",
    "    \n",
    "gatemap = {}\n",
    "\n",
    "gatemap['1'] = Gate('1 -> 1')\n",
    "\n",
    "for i in instructions:\n",
    "    g = Gate(i)\n",
    "    if g.outwire in gatemap:\n",
    "        print('UhOh!')\n",
    "    gatemap[g.outwire] = g\n",
    "    \n",
    "print(gatemap['a'].get(gatemap))\n",
    "\n",
    "newval = gatemap['a'].get(gatemap)\n",
    "\n",
    "gatemap = {}\n",
    "\n",
    "gatemap['1'] = Gate('1 -> 1')\n",
    "\n",
    "for i in instructions:\n",
    "    g = Gate(i)\n",
    "    if g.outwire in gatemap:\n",
    "        print('UhOh!')\n",
    "    gatemap[g.outwire] = g\n",
    "    \n",
    "gatemap['b'].val = newval\n",
    "\n",
    "print(gatemap['a'].get(gatemap))"
   ]
  },
  {
   "cell_type": "code",
   "execution_count": null,
   "id": "95a0e549",
   "metadata": {},
   "outputs": [],
   "source": []
  }
 ],
 "metadata": {
  "kernelspec": {
   "display_name": "Python 3 (ipykernel)",
   "language": "python",
   "name": "python3"
  },
  "language_info": {
   "codemirror_mode": {
    "name": "ipython",
    "version": 3
   },
   "file_extension": ".py",
   "mimetype": "text/x-python",
   "name": "python",
   "nbconvert_exporter": "python",
   "pygments_lexer": "ipython3",
   "version": "3.10.4"
  }
 },
 "nbformat": 4,
 "nbformat_minor": 5
}
