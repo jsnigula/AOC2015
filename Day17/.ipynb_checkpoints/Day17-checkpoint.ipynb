{
 "cells": [
  {
   "cell_type": "code",
   "execution_count": 50,
   "id": "da12e2a4",
   "metadata": {},
   "outputs": [],
   "source": [
    "def fill(curvol, vols, target, checked):\n",
    "    combinations = set()\n",
    "    \n",
    "    for i, v in enumerate(vols):\n",
    "        nextvol = tuple(sorted(curvol + (v,)))\n",
    "        # print(nextvol)\n",
    "        if nextvol in checked or nextvol in combinations:\n",
    "            continue\n",
    "        checked.add(nextvol)\n",
    "\n",
    "        cursum = sum([int(i.split('_')[0]) for i in nextvol])\n",
    "        # print(cursum)\n",
    "        if cursum == target:\n",
    "            combinations.add(nextvol)\n",
    "            # print('C', combinations)\n",
    "        elif cursum > target:\n",
    "            continue\n",
    "        else:\n",
    "            combinations.update(fill(nextvol, vols[0:i]+vols[i+1:], target, checked))\n",
    "            \n",
    "    return combinations\n",
    "        "
   ]
  },
  {
   "cell_type": "code",
   "execution_count": 60,
   "id": "f6210bad",
   "metadata": {},
   "outputs": [
    {
     "name": "stdout",
     "output_type": "stream",
     "text": [
      "N Combinations 654\n",
      "N Minimal combinations 57\n"
     ]
    }
   ],
   "source": [
    "vols = []\n",
    "with open('input17.txt', 'r') as inf:\n",
    "    for l in inf:\n",
    "        l = l.strip()\n",
    "        for i in range(1, 10):\n",
    "            if f'{l}_{i}' not in vols:\n",
    "                vols.append(f'{l}_{i}')\n",
    "                break\n",
    "    \n",
    "comb = fill(tuple(), vols, 150, set())\n",
    "\n",
    "print('N Combinations', len(comb))\n",
    "\n",
    "n_cont = [len(c) for c in comb]\n",
    "\n",
    "n_pos = 0\n",
    "for c in comb:\n",
    "    if len(c) == min(n_cont):\n",
    "        n_pos += 1\n",
    "        \n",
    "print('N Minimal combinations', n_pos)"
   ]
  },
  {
   "cell_type": "code",
   "execution_count": 38,
   "id": "92c6fb60",
   "metadata": {},
   "outputs": [
    {
     "data": {
      "text/plain": [
       "0"
      ]
     },
     "execution_count": 38,
     "metadata": {},
     "output_type": "execute_result"
    }
   ],
   "source": [
    "len(comb)"
   ]
  },
  {
   "cell_type": "code",
   "execution_count": null,
   "id": "b3acff99",
   "metadata": {},
   "outputs": [],
   "source": []
  }
 ],
 "metadata": {
  "kernelspec": {
   "display_name": "Python 3 (ipykernel)",
   "language": "python",
   "name": "python3"
  },
  "language_info": {
   "codemirror_mode": {
    "name": "ipython",
    "version": 3
   },
   "file_extension": ".py",
   "mimetype": "text/x-python",
   "name": "python",
   "nbconvert_exporter": "python",
   "pygments_lexer": "ipython3",
   "version": "3.10.4"
  }
 },
 "nbformat": 4,
 "nbformat_minor": 5
}
