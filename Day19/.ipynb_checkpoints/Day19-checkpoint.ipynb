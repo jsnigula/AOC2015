{
 "cells": [
  {
   "cell_type": "code",
   "execution_count": 65,
   "id": "a5ee0e74",
   "metadata": {},
   "outputs": [],
   "source": [
    "from collections import defaultdict\n",
    "import copy\n",
    "import re\n",
    "import random"
   ]
  },
  {
   "cell_type": "code",
   "execution_count": 28,
   "id": "9c5bb4c0",
   "metadata": {},
   "outputs": [
    {
     "name": "stdout",
     "output_type": "stream",
     "text": [
      "N Combinations 4\n"
     ]
    }
   ],
   "source": [
    "reps = defaultdict(list)\n",
    "with open('input19a.txt', 'r') as inf:\n",
    "    l = inf.readline().strip()\n",
    "    while l != '':\n",
    "        v = l.split()\n",
    "        reps[v[0]].append(v[2])\n",
    "        l = inf.readline().strip()\n",
    "        \n",
    "    instr = inf.readline().strip()\n",
    "    \n",
    "combs = set()\n",
    "\n",
    "for i, c in enumerate(instr):\n",
    "    if c in reps:\n",
    "        for r in reps[c]:\n",
    "            combs.add(instr[0:i] + r + instr[i+1:])    \n",
    "\n",
    "    if i < len(instr) and instr[i:i+2] in reps:\n",
    "        c = instr[i:i+2]\n",
    "        for r in reps[c]:\n",
    "            combs.add(instr[0:i] + r + instr[i+2:])    \n",
    "    \n",
    "    \n",
    "print('N Combinations', len(combs))\n",
    "\n"
   ]
  },
  {
   "cell_type": "code",
   "execution_count": 77,
   "id": "ab3dd373",
   "metadata": {},
   "outputs": [
    {
     "name": "stdout",
     "output_type": "stream",
     "text": [
      "Found after 207 iterations\n"
     ]
    }
   ],
   "source": [
    "reps = defaultdict(list)\n",
    "with open('input19.txt', 'r') as inf:\n",
    "    l = inf.readline().strip()\n",
    "    while l != '':\n",
    "        v = l.split()\n",
    "        reps[v[0]].append(v[2])\n",
    "        l = inf.readline().strip()\n",
    "        \n",
    "    instr = inf.readline().strip()\n",
    "\n",
    "# instr = 'HOHOHO'\n",
    "r_reps = {}\n",
    "\n",
    "for k, v in reps.items():\n",
    "    for i in v:\n",
    "        r_reps[i] = k\n",
    "    \n",
    "for i in range(10):\n",
    "    done = False\n",
    "    n_reps = 0\n",
    "    while True:\n",
    "        # Find possible replacements\n",
    "        possible = []\n",
    "        for k in r_reps:\n",
    "            if k in instr:\n",
    "                possible.append(k)\n",
    "            \n",
    "        if possible == []:\n",
    "            print(instr)\n",
    "            break\n",
    "    \n",
    "        # Now take the longest\n",
    "        r = random.randint(0, len(possible)-1)\n",
    "        # k = sorted(possible, key=len)[r]\n",
    "        k = possible[r]\n",
    "    \n",
    "        # print('Applying', k, n_reps+1)\n",
    "\n",
    "        instr = instr.replace(k, r_reps[k], 1)\n",
    "        n_reps += 1\n",
    "    \n",
    "        if instr == 'e':\n",
    "            print('Found after', n_reps, 'iterations')\n",
    "            done = True\n",
    "            break\n",
    "            \n",
    "    if done:\n",
    "        break\n",
    "    "
   ]
  },
  {
   "cell_type": "code",
   "execution_count": null,
   "id": "38159a00",
   "metadata": {},
   "outputs": [],
   "source": []
  }
 ],
 "metadata": {
  "kernelspec": {
   "display_name": "Python 3 (ipykernel)",
   "language": "python",
   "name": "python3"
  },
  "language_info": {
   "codemirror_mode": {
    "name": "ipython",
    "version": 3
   },
   "file_extension": ".py",
   "mimetype": "text/x-python",
   "name": "python",
   "nbconvert_exporter": "python",
   "pygments_lexer": "ipython3",
   "version": "3.10.4"
  }
 },
 "nbformat": 4,
 "nbformat_minor": 5
}
