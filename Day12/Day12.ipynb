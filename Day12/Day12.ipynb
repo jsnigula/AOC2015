{
 "cells": [
  {
   "cell_type": "code",
   "execution_count": 9,
   "id": "089a279f",
   "metadata": {},
   "outputs": [],
   "source": [
    "import re\n",
    "import json"
   ]
  },
  {
   "cell_type": "code",
   "execution_count": 27,
   "id": "7e9c8d02",
   "metadata": {},
   "outputs": [],
   "source": [
    "def rsum(inp):\n",
    "\n",
    "    if isinstance(inp, int):\n",
    "        return inp\n",
    "            \n",
    "    if isinstance(inp, list):\n",
    "        s = 0\n",
    "        for v in inp:\n",
    "            s += rsum(v)\n",
    "        return s\n",
    "    \n",
    "    if isinstance(inp, dict):\n",
    "        if 'red' in inp.values():\n",
    "            return 0\n",
    "        s = 0\n",
    "        for v in inp.values():\n",
    "            s += rsum(v)\n",
    "        return s\n",
    "    \n",
    "    if isinstance(inp, str):\n",
    "        return 0\n",
    "    \n",
    "    print('Found unexpected', type(inp), inp)"
   ]
  },
  {
   "cell_type": "code",
   "execution_count": 30,
   "id": "9adb3494",
   "metadata": {},
   "outputs": [
    {
     "name": "stdout",
     "output_type": "stream",
     "text": [
      "sum 119433\n",
      "Sum without red 68466\n"
     ]
    }
   ],
   "source": [
    "s = 0\n",
    "\n",
    "with open('input12.txt', 'r') as inf:\n",
    "    data = [l.strip() for l in inf]\n",
    "    \n",
    "for l in data:\n",
    "    s += sum([int(v) for v in re.findall('-?\\d+', l)])\n",
    "    \n",
    "print('sum', s)\n",
    "\n",
    "s = 0\n",
    "for l in data:\n",
    "    s += rsum(json.loads(l))\n",
    "    \n",
    "print('Sum without red', s)"
   ]
  },
  {
   "cell_type": "code",
   "execution_count": 3,
   "id": "624899cd",
   "metadata": {},
   "outputs": [
    {
     "data": {
      "text/plain": [
       "0"
      ]
     },
     "execution_count": 3,
     "metadata": {},
     "output_type": "execute_result"
    }
   ],
   "source": [
    "sum([])"
   ]
  },
  {
   "cell_type": "code",
   "execution_count": null,
   "id": "f0a5410f",
   "metadata": {},
   "outputs": [],
   "source": []
  }
 ],
 "metadata": {
  "kernelspec": {
   "display_name": "Python 3 (ipykernel)",
   "language": "python",
   "name": "python3"
  },
  "language_info": {
   "codemirror_mode": {
    "name": "ipython",
    "version": 3
   },
   "file_extension": ".py",
   "mimetype": "text/x-python",
   "name": "python",
   "nbconvert_exporter": "python",
   "pygments_lexer": "ipython3",
   "version": "3.10.4"
  }
 },
 "nbformat": 4,
 "nbformat_minor": 5
}
