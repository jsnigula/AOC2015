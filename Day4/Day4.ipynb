{
 "cells": [
  {
   "cell_type": "code",
   "execution_count": 1,
   "id": "78d6f977",
   "metadata": {},
   "outputs": [],
   "source": [
    "from hashlib import md5"
   ]
  },
  {
   "cell_type": "code",
   "execution_count": 7,
   "id": "3c8e4749",
   "metadata": {},
   "outputs": [
    {
     "name": "stdout",
     "output_type": "stream",
     "text": [
      "Lowest number is 282749\n",
      "Lowest number is 9962624\n"
     ]
    }
   ],
   "source": [
    "key = 'yzbqklnj'\n",
    "\n",
    "i = 1\n",
    "while True:\n",
    "    if md5((key+str(i)).encode()).hexdigest().startswith('00000'):\n",
    "        print('Lowest number is', i)\n",
    "        break\n",
    "        \n",
    "    i+=1\n",
    "\n",
    "i = 1\n",
    "while True:\n",
    "    if md5((key+str(i)).encode()).hexdigest().startswith('000000'):\n",
    "        print('Lowest number is', i)\n",
    "        break\n",
    "        \n",
    "    i+=1\n"
   ]
  },
  {
   "cell_type": "code",
   "execution_count": null,
   "id": "97de822e",
   "metadata": {},
   "outputs": [],
   "source": []
  }
 ],
 "metadata": {
  "kernelspec": {
   "display_name": "Python 3 (ipykernel)",
   "language": "python",
   "name": "python3"
  },
  "language_info": {
   "codemirror_mode": {
    "name": "ipython",
    "version": 3
   },
   "file_extension": ".py",
   "mimetype": "text/x-python",
   "name": "python",
   "nbconvert_exporter": "python",
   "pygments_lexer": "ipython3",
   "version": "3.10.4"
  }
 },
 "nbformat": 4,
 "nbformat_minor": 5
}
