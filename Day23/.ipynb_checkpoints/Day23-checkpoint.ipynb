{
 "cells": [
  {
   "cell_type": "code",
   "execution_count": 13,
   "id": "3873bb40",
   "metadata": {},
   "outputs": [
    {
     "name": "stdout",
     "output_type": "stream",
     "text": [
      "{'a': 1, 'b': 247}\n"
     ]
    }
   ],
   "source": [
    "reg = {'a': 1, 'b': 0}\n",
    "\n",
    "with open('input23.txt', 'r') as inf:\n",
    "    instructions = [l.strip() for l in inf]\n",
    "    \n",
    "done = False\n",
    "i=0\n",
    "\n",
    "while not done:\n",
    "    if i >= len(instructions) or i < 0:\n",
    "        break\n",
    "        \n",
    "    instr = instructions[i].split()\n",
    "    # print(instr)\n",
    "    \n",
    "    if instr[0] == 'hlf':\n",
    "        reg[instr[1]] = max(0, reg[instr[1]]//2)\n",
    "        i += 1\n",
    "\n",
    "    elif instr[0] == 'tpl':\n",
    "        reg[instr[1]] = reg[instr[1]] * 3\n",
    "        i += 1\n",
    "    \n",
    "    elif instr[0] == 'inc':\n",
    "        reg[instr[1]] += 1\n",
    "        i += 1\n",
    "    \n",
    "    elif instr[0] == 'jmp':\n",
    "        i += int(instr[1])\n",
    "    \n",
    "    elif instr[0] == 'jie':\n",
    "        if reg[instr[1][0]] % 2 == 0:\n",
    "            i += int(instr[2])\n",
    "        else:\n",
    "            i += 1\n",
    "    \n",
    "    elif instr[0] == 'jio':\n",
    "        if reg[instr[1][0]] == 1:\n",
    "            i += int(instr[2])\n",
    "        else:\n",
    "            i += 1\n",
    "            \n",
    "    else:\n",
    "        raise Exception()\n",
    "            \n",
    "    # print(i)\n",
    "    \n",
    "    \n",
    "print(reg)"
   ]
  },
  {
   "cell_type": "code",
   "execution_count": null,
   "id": "3fc89a95",
   "metadata": {},
   "outputs": [],
   "source": []
  }
 ],
 "metadata": {
  "kernelspec": {
   "display_name": "Python 3 (ipykernel)",
   "language": "python",
   "name": "python3"
  },
  "language_info": {
   "codemirror_mode": {
    "name": "ipython",
    "version": 3
   },
   "file_extension": ".py",
   "mimetype": "text/x-python",
   "name": "python",
   "nbconvert_exporter": "python",
   "pygments_lexer": "ipython3",
   "version": "3.10.4"
  }
 },
 "nbformat": 4,
 "nbformat_minor": 5
}
