{
 "cells": [
  {
   "cell_type": "code",
   "execution_count": 5,
   "id": "adad7b91",
   "metadata": {},
   "outputs": [],
   "source": [
    "import numpy as np\n",
    "import copy"
   ]
  },
  {
   "cell_type": "code",
   "execution_count": 64,
   "id": "04ab4756",
   "metadata": {},
   "outputs": [],
   "source": [
    "def mix(n_i, max_a):\n",
    "    start = 1\n",
    "    if n_i == 1:\n",
    "        start = max_a\n",
    "        \n",
    "    for i in range(start, max_a + 1):\n",
    "        remaining = max_a - i\n",
    "        if n_i != 1:\n",
    "            for y in mix(n_i-1, remaining):\n",
    "                yield (i,) + y\n",
    "        else:\n",
    "            yield (i,)"
   ]
  },
  {
   "cell_type": "code",
   "execution_count": 97,
   "id": "7bbc414b",
   "metadata": {},
   "outputs": [
    {
     "name": "stdout",
     "output_type": "stream",
     "text": [
      "222870\n",
      "117936\n"
     ]
    }
   ],
   "source": [
    "with open('input15.txt', 'r') as inf:\n",
    "    data = [l.strip() for l in inf]\n",
    "    \n",
    "ingredients = np.zeros((len(data), 5))\n",
    "\n",
    "shares = np.zeros(4)\n",
    "\n",
    "for i, l in enumerate(data):\n",
    "    v = l.split()\n",
    "    ingredients[i] = np.array((int(v[2][:-1]), int(v[4][:-1]), int(v[6][:-1]), int(v[8][:-1]), int(v[10])))\n",
    "\n",
    "for j in range(4):\n",
    "    shares[j] += np.sum(np.abs(ingredients[:,j]))\n",
    "            \n",
    "# print('I', ingredients)\n",
    "\n",
    "score = 0\n",
    "score_500 = 0\n",
    "for m in mix(len(data), 100):\n",
    "# for m in [[44, 56]]:\n",
    "    a = np.array(m)\n",
    "    v = np.multiply(ingredients, a[:, np.newaxis])\n",
    "    vs = np.sum(v[:,:-1], axis=0)\n",
    "    vs[np.where(vs < 0)] = 0\n",
    "    # print(v)\n",
    "    # print(np.sum(v, axis=0))\n",
    "    # print(np.prod(np.sum(v, axis=0)))\n",
    "    # if np.prod(vs) > score:\n",
    "    #     print(a, np.prod(np.sum(v, axis=0)), score)\n",
    "    score = max(score, np.prod(vs))\n",
    "    if np.sum(v[:,-1]) == 500:\n",
    "        score_500 = max(score_500, np.prod(vs))\n",
    "    \n",
    "    \n",
    "print(int(score))\n",
    "print(int(score_500))"
   ]
  },
  {
   "cell_type": "code",
   "execution_count": 28,
   "id": "7ca225b6",
   "metadata": {},
   "outputs": [
    {
     "data": {
      "text/plain": [
       "42"
      ]
     },
     "execution_count": 28,
     "metadata": {},
     "output_type": "execute_result"
    }
   ],
   "source": [
    "100 // 7 * 3"
   ]
  },
  {
   "cell_type": "code",
   "execution_count": 43,
   "id": "b679db08",
   "metadata": {},
   "outputs": [
    {
     "data": {
      "text/plain": [
       "(1, 2, 3, 4)"
      ]
     },
     "execution_count": 43,
     "metadata": {},
     "output_type": "execute_result"
    }
   ],
   "source": [
    "(1,) + (2,3,4)"
   ]
  },
  {
   "cell_type": "code",
   "execution_count": null,
   "id": "9bf5d389",
   "metadata": {},
   "outputs": [],
   "source": []
  }
 ],
 "metadata": {
  "kernelspec": {
   "display_name": "Python 3 (ipykernel)",
   "language": "python",
   "name": "python3"
  },
  "language_info": {
   "codemirror_mode": {
    "name": "ipython",
    "version": 3
   },
   "file_extension": ".py",
   "mimetype": "text/x-python",
   "name": "python",
   "nbconvert_exporter": "python",
   "pygments_lexer": "ipython3",
   "version": "3.10.4"
  }
 },
 "nbformat": 4,
 "nbformat_minor": 5
}
