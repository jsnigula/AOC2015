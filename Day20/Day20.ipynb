{
 "cells": [
  {
   "cell_type": "code",
   "execution_count": 29,
   "id": "2100b34d",
   "metadata": {},
   "outputs": [
    {
     "name": "stdout",
     "output_type": "stream",
     "text": [
      "831600\n",
      "884520\n"
     ]
    }
   ],
   "source": [
    "import numpy as np\n",
    "\n",
    "n = int(36000000)\n",
    "\n",
    "data = np.zeros(n//2)\n",
    "\n",
    "for i in range(2, n // 10):\n",
    "    data[i::i] += 10 * i\n",
    "    \n",
    "print(np.min(np.where(data>=n)))\n",
    "\n",
    "data = np.zeros(n//2)\n",
    "\n",
    "for i in range(2, n // 10):\n",
    "    data[i:(50*i)+1:i] += 11 * i\n",
    "    \n",
    "print(np.min(np.where(data>=n)))"
   ]
  },
  {
   "cell_type": "code",
   "execution_count": 22,
   "id": "4604ae11",
   "metadata": {},
   "outputs": [
    {
     "data": {
      "text/plain": [
       "36.0"
      ]
     },
     "execution_count": 22,
     "metadata": {},
     "output_type": "execute_result"
    }
   ],
   "source": [
    "36000000 / 1000000"
   ]
  },
  {
   "cell_type": "code",
   "execution_count": 6,
   "id": "b1f57c49",
   "metadata": {},
   "outputs": [
    {
     "data": {
      "text/plain": [
       "0"
      ]
     },
     "execution_count": 6,
     "metadata": {},
     "output_type": "execute_result"
    }
   ],
   "source": [
    "9% 3"
   ]
  },
  {
   "cell_type": "code",
   "execution_count": null,
   "id": "66ba8f45",
   "metadata": {},
   "outputs": [],
   "source": []
  }
 ],
 "metadata": {
  "kernelspec": {
   "display_name": "Python 3 (ipykernel)",
   "language": "python",
   "name": "python3"
  },
  "language_info": {
   "codemirror_mode": {
    "name": "ipython",
    "version": 3
   },
   "file_extension": ".py",
   "mimetype": "text/x-python",
   "name": "python",
   "nbconvert_exporter": "python",
   "pygments_lexer": "ipython3",
   "version": "3.10.4"
  }
 },
 "nbformat": 4,
 "nbformat_minor": 5
}
