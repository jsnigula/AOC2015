{
 "cells": [
  {
   "cell_type": "code",
   "execution_count": 15,
   "id": "5c44c973",
   "metadata": {},
   "outputs": [
    {
     "name": "stdout",
     "output_type": "stream",
     "text": [
      "Santa visited 2592 houses\n",
      "Santa and Robo-Santa visited 2360 houses\n"
     ]
    }
   ],
   "source": [
    "with open('input3.txt', 'r') as inf:\n",
    "    data = inf.readline().strip()\n",
    "    \n",
    "# data = '^v'\n",
    "# data = '^>v<'\n",
    "# data = '^v^v^v^v^v'\n",
    "\n",
    "visited = set()\n",
    "pos = (0,0)\n",
    "visited.add(pos)\n",
    "\n",
    "for c in data:\n",
    "    if c == '^':\n",
    "        pos = (pos[0], pos[1]+1)\n",
    "    elif c == '>':\n",
    "        pos = (pos[0]+1, pos[1])\n",
    "    elif c == 'v':\n",
    "        pos = (pos[0], pos[1]-1)\n",
    "    else:\n",
    "        pos = (pos[0]-1, pos[1])\n",
    "    visited.add(pos)\n",
    "    \n",
    "print('Santa visited', len(visited), 'houses')\n",
    "\n",
    "visited = set()\n",
    "positions = {True: (0,0),\n",
    "            False: (0,0)}\n",
    "\n",
    "visited.add((0,0))\n",
    "\n",
    "is_santa = True\n",
    "for c in data:\n",
    "    pos = positions[is_santa]\n",
    "    if c == '^':\n",
    "        pos = (pos[0], pos[1]+1)\n",
    "    elif c == '>':\n",
    "        pos = (pos[0]+1, pos[1])\n",
    "    elif c == 'v':\n",
    "        pos = (pos[0], pos[1]-1)\n",
    "    else:\n",
    "        pos = (pos[0]-1, pos[1])\n",
    "    visited.add(pos)\n",
    "    positions[is_santa] = pos\n",
    "    is_santa = not is_santa\n",
    "    \n",
    "print('Santa and Robo-Santa visited', len(visited), 'houses')\n",
    "    "
   ]
  },
  {
   "cell_type": "code",
   "execution_count": null,
   "id": "e689a821",
   "metadata": {},
   "outputs": [],
   "source": []
  }
 ],
 "metadata": {
  "kernelspec": {
   "display_name": "Python 3 (ipykernel)",
   "language": "python",
   "name": "python3"
  },
  "language_info": {
   "codemirror_mode": {
    "name": "ipython",
    "version": 3
   },
   "file_extension": ".py",
   "mimetype": "text/x-python",
   "name": "python",
   "nbconvert_exporter": "python",
   "pygments_lexer": "ipython3",
   "version": "3.10.4"
  }
 },
 "nbformat": 4,
 "nbformat_minor": 5
}
