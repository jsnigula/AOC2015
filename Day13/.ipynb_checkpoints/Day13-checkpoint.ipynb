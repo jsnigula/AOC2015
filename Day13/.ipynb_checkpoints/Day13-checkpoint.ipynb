{
 "cells": [
  {
   "cell_type": "code",
   "execution_count": 15,
   "id": "5953fef6",
   "metadata": {},
   "outputs": [],
   "source": [
    "from collections import defaultdict\n",
    "import copy"
   ]
  },
  {
   "cell_type": "code",
   "execution_count": 38,
   "id": "ba1b792a",
   "metadata": {},
   "outputs": [],
   "source": [
    "def seat_guests(arangement):\n",
    "    \n",
    "    for g in guests:\n",
    "        ar = copy.copy(arangement)\n",
    "        if g in ar:\n",
    "            continue\n",
    "            \n",
    "        ar.append(g)\n",
    "\n",
    "        if len(ar) == len(guest_names):\n",
    "            arangements.append(ar)\n",
    "        else:\n",
    "            seat_guests(copy.copy(ar))\n"
   ]
  },
  {
   "cell_type": "code",
   "execution_count": 43,
   "id": "874b5806",
   "metadata": {},
   "outputs": [
    {
     "name": "stdout",
     "output_type": "stream",
     "text": [
      "618\n"
     ]
    }
   ],
   "source": [
    "with open('input13.txt', 'r') as inf:\n",
    "    data = [l.strip() for l in inf]\n",
    "    \n",
    "guests = defaultdict(dict)\n",
    "guest_names = set()\n",
    "arangements = []\n",
    "\n",
    "for f in data:\n",
    "    v = f[:-1].split()\n",
    "    mult = 1\n",
    "    if v[2] == 'lose':\n",
    "        mult = -1\n",
    "    guests[v[0]][v[10]] = mult * int(v[3])\n",
    "    guest_names.add(v[0])\n",
    "    \n",
    "seat_guests([])\n",
    "\n",
    "max_happiness = 0\n",
    "\n",
    "for a in arangements:\n",
    "    h = guests[a[0]][a[-1]] + guests[a[-1]][a[0]]\n",
    "    for i in range(1, len(a)):\n",
    "        h += guests[a[i]][a[i-1]] + guests[a[i-1]][a[i]]\n",
    "    max_happiness = max(max_happiness, h)\n",
    "    \n",
    "print(max_happiness)"
   ]
  },
  {
   "cell_type": "markdown",
   "id": "bc497cea",
   "metadata": {},
   "source": [
    "Part 2"
   ]
  },
  {
   "cell_type": "code",
   "execution_count": 46,
   "id": "d2ca992c",
   "metadata": {},
   "outputs": [
    {
     "name": "stdout",
     "output_type": "stream",
     "text": [
      "601\n"
     ]
    }
   ],
   "source": [
    "with open('input13.txt', 'r') as inf:\n",
    "    data = [l.strip() for l in inf]\n",
    "    \n",
    "guests = defaultdict(dict)\n",
    "guest_names = set()\n",
    "guest_names.add('me')\n",
    "arangements = []\n",
    "\n",
    "for f in data:\n",
    "    v = f[:-1].split()\n",
    "    mult = 1\n",
    "    if v[2] == 'lose':\n",
    "        mult = -1\n",
    "    guests[v[0]][v[10]] = mult * int(v[3])\n",
    "    guests['me'][v[0]] = 0\n",
    "    guests[v[0]]['me'] = 0\n",
    "    \n",
    "    guest_names.add(v[0])\n",
    "    \n",
    "seat_guests([])\n",
    "\n",
    "max_happiness = 0\n",
    "\n",
    "for a in arangements:\n",
    "    h = guests[a[0]][a[-1]] + guests[a[-1]][a[0]]\n",
    "    for i in range(1, len(a)):\n",
    "        h += guests[a[i]][a[i-1]] + guests[a[i-1]][a[i]]\n",
    "    max_happiness = max(max_happiness, h)\n",
    "    \n",
    "print(max_happiness)"
   ]
  },
  {
   "cell_type": "code",
   "execution_count": null,
   "id": "0615842f",
   "metadata": {},
   "outputs": [],
   "source": []
  },
  {
   "cell_type": "code",
   "execution_count": null,
   "id": "19bd644c",
   "metadata": {},
   "outputs": [],
   "source": []
  }
 ],
 "metadata": {
  "kernelspec": {
   "display_name": "Python 3 (ipykernel)",
   "language": "python",
   "name": "python3"
  },
  "language_info": {
   "codemirror_mode": {
    "name": "ipython",
    "version": 3
   },
   "file_extension": ".py",
   "mimetype": "text/x-python",
   "name": "python",
   "nbconvert_exporter": "python",
   "pygments_lexer": "ipython3",
   "version": "3.10.4"
  }
 },
 "nbformat": 4,
 "nbformat_minor": 5
}
