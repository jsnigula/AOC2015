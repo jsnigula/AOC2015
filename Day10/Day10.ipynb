{
 "cells": [
  {
   "cell_type": "code",
   "execution_count": 23,
   "id": "7bee2188",
   "metadata": {},
   "outputs": [],
   "source": [
    "def look_and_say(v):\n",
    "    last = v[0]\n",
    "    n_rep = 0\n",
    "    \n",
    "    r = ''\n",
    "    \n",
    "    for c in v:\n",
    "        # print('c', c, last)\n",
    "        if c == last:\n",
    "            n_rep += 1\n",
    "            continue\n",
    "        else:\n",
    "            r += str(n_rep) + last\n",
    "            n_rep = 1\n",
    "        last = c\n",
    "\n",
    "    return r + str(n_rep) + c"
   ]
  },
  {
   "cell_type": "code",
   "execution_count": 29,
   "id": "bfd00663",
   "metadata": {},
   "outputs": [
    {
     "name": "stdout",
     "output_type": "stream",
     "text": [
      "492982\n",
      "6989950\n"
     ]
    }
   ],
   "source": [
    "s = '1321131112'\n",
    "\n",
    "for i in (range(40)):\n",
    "    s = look_and_say(s)\n",
    "\n",
    "print(len(s))\n",
    "\n",
    "s = '1321131112'\n",
    "\n",
    "for i in (range(50)):\n",
    "    s = look_and_say(s)\n",
    "\n",
    "print(len(s))"
   ]
  },
  {
   "cell_type": "code",
   "execution_count": null,
   "id": "8707943a",
   "metadata": {},
   "outputs": [],
   "source": [
    "\n"
   ]
  },
  {
   "cell_type": "code",
   "execution_count": null,
   "id": "18dfbbbd",
   "metadata": {},
   "outputs": [],
   "source": []
  }
 ],
 "metadata": {
  "kernelspec": {
   "display_name": "Python 3 (ipykernel)",
   "language": "python",
   "name": "python3"
  },
  "language_info": {
   "codemirror_mode": {
    "name": "ipython",
    "version": 3
   },
   "file_extension": ".py",
   "mimetype": "text/x-python",
   "name": "python",
   "nbconvert_exporter": "python",
   "pygments_lexer": "ipython3",
   "version": "3.10.4"
  }
 },
 "nbformat": 4,
 "nbformat_minor": 5
}
