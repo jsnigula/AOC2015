{
 "cells": [
  {
   "cell_type": "code",
   "execution_count": 69,
   "id": "6e9a91d6",
   "metadata": {},
   "outputs": [],
   "source": [
    "letters = 'abcdefghjkmnpqrstuvwxyz'\n",
    "forbidden = 'iol'\n",
    "forbidden_ord = [ord(c) for c in forbidden]\n",
    "\n",
    "triples = [letters[i:i+3] for i in range(21)]\n",
    "\n",
    "doubles = [letters[i]+letters[i] for i in range(23)]\n",
    "\n",
    "def check_pwd(s):\n",
    "    passing = False\n",
    "    for t in triples:\n",
    "        if t in s:\n",
    "            passing = True\n",
    "            break\n",
    "    if not passing:\n",
    "        return False\n",
    "    \n",
    "    passing = False\n",
    "\n",
    "    for d in doubles:\n",
    "        if d in s:\n",
    "            for dd in doubles:\n",
    "                if d != dd and dd in s:\n",
    "                    passing = True\n",
    "                    break\n",
    "        if passing:\n",
    "            break\n",
    "            \n",
    "    if not passing:\n",
    "        return False\n",
    "    \n",
    "    return True"
   ]
  },
  {
   "cell_type": "code",
   "execution_count": 97,
   "id": "572ccaf3",
   "metadata": {},
   "outputs": [],
   "source": [
    "def next_letter(c):\n",
    "    o = ord(c)\n",
    "    if o == 122:\n",
    "        return 'a'\n",
    "    \n",
    "    if o+1 in forbidden_ord:\n",
    "        return chr(o+2)\n",
    "    \n",
    "    return chr(o+1)\n",
    "\n",
    "def advance_pwd(s, i):\n",
    "    \n",
    "    if check_pwd(s):\n",
    "        return s, True\n",
    "\n",
    "    nl = next_letter(s[i])\n",
    "\n",
    "    while True:\n",
    "\n",
    "        if i != 7:\n",
    "            s, r = advance_pwd(s, i+1)\n",
    "            if r:\n",
    "                return s, r\n",
    "            \n",
    "        s = s[0:i] + nl + (7-i)*'a'\n",
    "                \n",
    "        if check_pwd(s):\n",
    "            return s, True\n",
    "\n",
    "        if nl == 'a':\n",
    "            break\n",
    "\n",
    "        nl = next_letter(s[i])\n",
    "        \n",
    "    return s, False"
   ]
  },
  {
   "cell_type": "code",
   "execution_count": 101,
   "id": "ad03b596",
   "metadata": {},
   "outputs": [
    {
     "data": {
      "text/plain": [
       "('vzbxxyzz', True)"
      ]
     },
     "execution_count": 101,
     "metadata": {},
     "output_type": "execute_result"
    }
   ],
   "source": [
    "advance_pwd('vzbxkghb', 0)"
   ]
  },
  {
   "cell_type": "code",
   "execution_count": 103,
   "id": "cccb4951",
   "metadata": {},
   "outputs": [
    {
     "data": {
      "text/plain": [
       "('vzcaabcc', True)"
      ]
     },
     "execution_count": 103,
     "metadata": {},
     "output_type": "execute_result"
    }
   ],
   "source": [
    "advance_pwd('vzbxxzaa', 0)"
   ]
  },
  {
   "cell_type": "code",
   "execution_count": null,
   "id": "13e14dd7",
   "metadata": {},
   "outputs": [],
   "source": []
  }
 ],
 "metadata": {
  "kernelspec": {
   "display_name": "Python 3 (ipykernel)",
   "language": "python",
   "name": "python3"
  },
  "language_info": {
   "codemirror_mode": {
    "name": "ipython",
    "version": 3
   },
   "file_extension": ".py",
   "mimetype": "text/x-python",
   "name": "python",
   "nbconvert_exporter": "python",
   "pygments_lexer": "ipython3",
   "version": "3.10.4"
  }
 },
 "nbformat": 4,
 "nbformat_minor": 5
}
