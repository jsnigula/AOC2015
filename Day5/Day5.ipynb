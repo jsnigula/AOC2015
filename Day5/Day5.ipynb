{
 "cells": [
  {
   "cell_type": "code",
   "execution_count": 20,
   "id": "a21a8d84",
   "metadata": {},
   "outputs": [],
   "source": [
    "import re"
   ]
  },
  {
   "cell_type": "code",
   "execution_count": 42,
   "id": "3f0d6e0b",
   "metadata": {},
   "outputs": [
    {
     "name": "stdout",
     "output_type": "stream",
     "text": [
      "Found 258 nice strings\n",
      "\n",
      "Part2\n",
      "\n",
      "Found 53 nice strings\n"
     ]
    }
   ],
   "source": [
    "with open('input5.txt', 'r') as inf:\n",
    "    data = [l.strip() for l in inf]\n",
    "    \n",
    "#data = ['ieodomkazucvgmuy']\n",
    "n_nice = 0\n",
    "\n",
    "for s in data:\n",
    "    \n",
    "    nobadpairs = True\n",
    "\n",
    "    for c in ('ab', 'cd', 'pq', 'xy'):\n",
    "        if c in s:\n",
    "            nobadpairs = False\n",
    "            \n",
    "    if not nobadpairs:\n",
    "        continue\n",
    "        \n",
    "    n_vowels = 0\n",
    "    \n",
    "    for c in ('a', 'e', 'i', 'o', 'u'):\n",
    "        n_vowels += len(re.findall(c, s))\n",
    "        if n_vowels >= 3:\n",
    "            break\n",
    "\n",
    "    if n_vowels < 3:\n",
    "        continue\n",
    "\n",
    "    hasdups = False\n",
    "\n",
    "    lastchar = ''\n",
    "    for c in s:\n",
    "        if c == lastchar:\n",
    "            hasdups = True\n",
    "            break\n",
    "        lastchar = c\n",
    "\n",
    "    if hasdups:\n",
    "        n_nice += 1\n",
    "\n",
    "print('Found', n_nice, 'nice strings')\n",
    "\n",
    "print('\\nPart2\\n')\n",
    "\n",
    "n_nice = 0\n",
    "\n",
    "for s in data:\n",
    "    \n",
    "    hasdups = False\n",
    "    for i in range(0, len(s)-1):\n",
    "        p = s[i:i+2]\n",
    "        if (p in s[:i]) or (p in s[i+2:]):\n",
    "            hasdups = True\n",
    "            break\n",
    "\n",
    "    if not hasdups:\n",
    "        continue\n",
    "        \n",
    "    haspair = False\n",
    "\n",
    "    lastchar = '  '\n",
    "    for i in range(len(s)):\n",
    "        if s[i] == lastchar:\n",
    "            haspair = True\n",
    "            break\n",
    "        if i >= 1:\n",
    "            lastchar = s[i-1]\n",
    "\n",
    "    if haspair:\n",
    "        n_nice += 1\n",
    "\n",
    "print('Found', n_nice, 'nice strings')"
   ]
  },
  {
   "cell_type": "code",
   "execution_count": 26,
   "id": "9af8a75c",
   "metadata": {},
   "outputs": [
    {
     "data": {
      "text/plain": [
       "[]"
      ]
     },
     "execution_count": 26,
     "metadata": {},
     "output_type": "execute_result"
    }
   ],
   "source": [
    "a=[1,2,3,4]\n",
    "a[:0]"
   ]
  },
  {
   "cell_type": "code",
   "execution_count": null,
   "id": "ab4b4352",
   "metadata": {},
   "outputs": [],
   "source": []
  }
 ],
 "metadata": {
  "kernelspec": {
   "display_name": "Python 3 (ipykernel)",
   "language": "python",
   "name": "python3"
  },
  "language_info": {
   "codemirror_mode": {
    "name": "ipython",
    "version": 3
   },
   "file_extension": ".py",
   "mimetype": "text/x-python",
   "name": "python",
   "nbconvert_exporter": "python",
   "pygments_lexer": "ipython3",
   "version": "3.10.4"
  }
 },
 "nbformat": 4,
 "nbformat_minor": 5
}
