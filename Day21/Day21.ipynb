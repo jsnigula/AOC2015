{
 "cells": [
  {
   "cell_type": "code",
   "execution_count": 14,
   "id": "04527b2a",
   "metadata": {},
   "outputs": [],
   "source": [
    "import numpy as np"
   ]
  },
  {
   "cell_type": "code",
   "execution_count": 43,
   "id": "f58043ff",
   "metadata": {},
   "outputs": [],
   "source": [
    "def fight(hp, d, a):\n",
    "    armor = 1\n",
    "    damage = 8\n",
    "    hitpoints = 104\n",
    "    \n",
    "    while hp > 0 and hitpoints > 0:\n",
    "        hitpoints -= max(1, d-armor)\n",
    "        if hitpoints < 1:\n",
    "            break\n",
    "        hp -= max(1, damage-a)\n",
    "        \n",
    "    if hp > 0:\n",
    "        return True\n",
    "    \n",
    "    return False"
   ]
  },
  {
   "cell_type": "code",
   "execution_count": 44,
   "id": "a587321b",
   "metadata": {},
   "outputs": [
    {
     "name": "stdout",
     "output_type": "stream",
     "text": [
      "78\n",
      "148\n"
     ]
    }
   ],
   "source": [
    "weapons = [(8,4), (10,5), (25,6), (40, 7), (74, 8)]\n",
    "armor = [(0,0), (13, 1), (31, 2), (53, 3), (75, 4), (102, 5)]\n",
    "singlerings = [(0, 0, 0), (25, 1, 0), (50, 2, 0), (100, 3, 0), (20, 0, 1), (40, 0, 2), (80, 0, 3)]\n",
    "\n",
    "rings = [(0,0,0)]\n",
    "for i in range(len(singlerings)):\n",
    "    for j in range(i+1, len(singlerings)):\n",
    "        rings.append(tuple(np.array(singlerings[i]) + np.array(singlerings[j])))\n",
    "    \n",
    "cost_win = []\n",
    "cost_loose = []\n",
    "for w in weapons:\n",
    "    for a in armor:\n",
    "        for r in rings:\n",
    "            if fight(100, w[1] + r[1], a[1]+r[2]):\n",
    "                cost_win.append(w[0]+a[0]+r[0])\n",
    "            else:\n",
    "                cost_loose.append(w[0]+a[0]+r[0])\n",
    "                \n",
    "                \n",
    "print(min(cost_win))\n",
    "print(max(cost_loose))"
   ]
  },
  {
   "cell_type": "code",
   "execution_count": null,
   "id": "3e692734",
   "metadata": {},
   "outputs": [],
   "source": []
  }
 ],
 "metadata": {
  "kernelspec": {
   "display_name": "Python 3 (ipykernel)",
   "language": "python",
   "name": "python3"
  },
  "language_info": {
   "codemirror_mode": {
    "name": "ipython",
    "version": 3
   },
   "file_extension": ".py",
   "mimetype": "text/x-python",
   "name": "python",
   "nbconvert_exporter": "python",
   "pygments_lexer": "ipython3",
   "version": "3.10.4"
  }
 },
 "nbformat": 4,
 "nbformat_minor": 5
}
