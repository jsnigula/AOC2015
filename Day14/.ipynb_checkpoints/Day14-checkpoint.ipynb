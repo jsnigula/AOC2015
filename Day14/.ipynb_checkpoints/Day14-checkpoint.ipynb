{
 "cells": [
  {
   "cell_type": "code",
   "execution_count": 52,
   "id": "6a6adeee",
   "metadata": {},
   "outputs": [
    {
     "name": "stdout",
     "output_type": "stream",
     "text": [
      "2640\n",
      "1102\n"
     ]
    }
   ],
   "source": [
    "with open('input14.txt', 'r') as inf:\n",
    "    data = [l.strip() for l in inf]\n",
    "    \n",
    "reindeer = []\n",
    "\n",
    "for d in data:\n",
    "    v = d.split()\n",
    "    r = (int(v[3]), int(v[6]), int(v[13]))\n",
    "    reindeer.append(r)\n",
    "    \n",
    "maxdist = 0\n",
    "time = 2503\n",
    "\n",
    "for r in reindeer:\n",
    "    flytime = r[1]\n",
    "    stepdist = r[0] * r[1]\n",
    "    steplen = r[1] + r[2]\n",
    "    \n",
    "    dist = (time // steplen) * stepdist\n",
    "    if (time % steplen) > flytime:\n",
    "        dist += stepdist\n",
    "    else:\n",
    "        dist += r[0] * (time % steplen)\n",
    "    \n",
    "    maxdist = max(maxdist, dist)\n",
    "    \n",
    "print(maxdist)\n",
    "\n",
    "maxdist = 0\n",
    "r_points = [0 for r in reindeer]\n",
    "\n",
    "for t in range(2503):\n",
    "    time = t+1\n",
    "    maxdist = -1\n",
    "    rdists = [0 for r in reindeer]\n",
    "    for i, r in enumerate(reindeer):\n",
    "        flytime = r[1]\n",
    "        stepdist = r[0] * r[1]\n",
    "        steplen = r[1] + r[2]\n",
    "    \n",
    "        dist = (time // steplen) * stepdist\n",
    "        if (time % steplen) >= flytime:\n",
    "            dist += stepdist\n",
    "        else:\n",
    "            dist += r[0] * (time % steplen)\n",
    "    \n",
    "        rdists[i] = dist\n",
    "        maxdist = max(maxdist, dist)\n",
    "    for i, r in enumerate(rdists):\n",
    "        if rdists[i] == maxdist:\n",
    "            r_points[i] += 1\n",
    "    \n",
    "print(max(r_points))\n"
   ]
  },
  {
   "cell_type": "code",
   "execution_count": 6,
   "id": "432abb59",
   "metadata": {},
   "outputs": [
    {
     "data": {
      "text/plain": [
       "23"
      ]
     },
     "execution_count": 6,
     "metadata": {},
     "output_type": "execute_result"
    }
   ],
   "source": [
    "160 % 137"
   ]
  },
  {
   "cell_type": "code",
   "execution_count": null,
   "id": "604749e4",
   "metadata": {},
   "outputs": [],
   "source": []
  }
 ],
 "metadata": {
  "kernelspec": {
   "display_name": "Python 3 (ipykernel)",
   "language": "python",
   "name": "python3"
  },
  "language_info": {
   "codemirror_mode": {
    "name": "ipython",
    "version": 3
   },
   "file_extension": ".py",
   "mimetype": "text/x-python",
   "name": "python",
   "nbconvert_exporter": "python",
   "pygments_lexer": "ipython3",
   "version": "3.10.4"
  }
 },
 "nbformat": 4,
 "nbformat_minor": 5
}
