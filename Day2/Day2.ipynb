{
 "cells": [
  {
   "cell_type": "code",
   "execution_count": 7,
   "id": "ed001068",
   "metadata": {},
   "outputs": [
    {
     "name": "stdout",
     "output_type": "stream",
     "text": [
      "Required paper size 1598415\n",
      "Required ribbon length 3812909\n"
     ]
    }
   ],
   "source": [
    "with open('input2.txt', 'r') as inf:\n",
    "    data = [l.strip() for l in inf]\n",
    "    \n",
    "psize = 0\n",
    "\n",
    "for p in data:\n",
    "    l, w, h = (int(i) for i in p.strip().split('x'))\n",
    "    sides = [2*l*w, 2*w*h, 2*h*l]\n",
    "    psize += sum(sides) + min(sides) / 2\n",
    "    \n",
    "print('Required paper size', int(psize))\n",
    "\n",
    "rlen = 0\n",
    "\n",
    "for p in data:\n",
    "    sides = sorted([int(i) for i in p.strip().split('x')])\n",
    "    rlen += sides[0] * 2 + sides[1] * 2 + sides[0]*sides[1]*sides[2]\n",
    "\n",
    "print('Required ribbon length', int(rlen))"
   ]
  },
  {
   "cell_type": "code",
   "execution_count": null,
   "id": "f997f571",
   "metadata": {},
   "outputs": [],
   "source": []
  }
 ],
 "metadata": {
  "kernelspec": {
   "display_name": "Python 3 (ipykernel)",
   "language": "python",
   "name": "python3"
  },
  "language_info": {
   "codemirror_mode": {
    "name": "ipython",
    "version": 3
   },
   "file_extension": ".py",
   "mimetype": "text/x-python",
   "name": "python",
   "nbconvert_exporter": "python",
   "pygments_lexer": "ipython3",
   "version": "3.10.4"
  }
 },
 "nbformat": 4,
 "nbformat_minor": 5
}
