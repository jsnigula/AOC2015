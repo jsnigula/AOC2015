{
 "cells": [
  {
   "cell_type": "code",
   "execution_count": 181,
   "id": "e8e62792",
   "metadata": {},
   "outputs": [],
   "source": [
    "def nth_code(x, y):\n",
    "    \n",
    "    v1 = sum(range(x)) + x\n",
    "    v2 = sum(range(x-1+y)) + x\n",
    "    # print(v)\n",
    "    \n",
    "    return v2\n",
    "\n",
    "def calc(x, y):\n",
    "    \n",
    "    v = 20151125\n",
    "    for i in range(1, nth_code(x, y)):\n",
    "        v = (v * 252533) % 33554393\n",
    "        \n",
    "    return v"
   ]
  },
  {
   "cell_type": "code",
   "execution_count": 182,
   "id": "3955171e",
   "metadata": {},
   "outputs": [
    {
     "name": "stdout",
     "output_type": "stream",
     "text": [
      "[1, 3, 6, 10, 15, 21]\n",
      "[2, 5, 9, 14, 20, 27]\n",
      "[4, 8, 13, 19, 26, 34]\n",
      "[7, 12, 18, 25, 33, 42]\n",
      "[11, 17, 24, 32, 41, 51]\n",
      "[16, 23, 31, 40, 50, 61]\n"
     ]
    }
   ],
   "source": [
    "for y in range(1, 7):\n",
    "    print([nth_code(x, y) for x in range(1, 7)])\n"
   ]
  },
  {
   "cell_type": "code",
   "execution_count": 187,
   "id": "30653eca",
   "metadata": {},
   "outputs": [
    {
     "data": {
      "text/plain": [
       "2650453"
      ]
     },
     "execution_count": 187,
     "metadata": {},
     "output_type": "execute_result"
    }
   ],
   "source": [
    "calc(3083, 2978)"
   ]
  },
  {
   "cell_type": "markdown",
   "id": "073263d9",
   "metadata": {},
   "source": [
    "##### "
   ]
  },
  {
   "cell_type": "code",
   "execution_count": null,
   "id": "d2115931",
   "metadata": {},
   "outputs": [],
   "source": []
  }
 ],
 "metadata": {
  "kernelspec": {
   "display_name": "Python 3 (ipykernel)",
   "language": "python",
   "name": "python3"
  },
  "language_info": {
   "codemirror_mode": {
    "name": "ipython",
    "version": 3
   },
   "file_extension": ".py",
   "mimetype": "text/x-python",
   "name": "python",
   "nbconvert_exporter": "python",
   "pygments_lexer": "ipython3",
   "version": "3.10.4"
  }
 },
 "nbformat": 4,
 "nbformat_minor": 5
}
